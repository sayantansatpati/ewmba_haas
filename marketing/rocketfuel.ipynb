{
 "cells": [
  {
   "cell_type": "code",
   "execution_count": 1,
   "id": "3e113d77",
   "metadata": {},
   "outputs": [],
   "source": [
    "import pandas as pd\n",
    "import numpy as np\n",
    "import seaborn as sns\n",
    "import matplotlib.pyplot as plt\n",
    "import statsmodels.api as sm\n",
    "\n",
    "from sklearn.preprocessing import OneHotEncoder\n",
    "from sklearn.pipeline import make_pipeline\n",
    "from sklearn.pipeline import Pipeline\n",
    "from sklearn.linear_model import LogisticRegression\n",
    "from sklearn.ensemble import GradientBoostingClassifier\n",
    "\n",
    "import math\n",
    "\n",
    "np.set_printoptions(suppress=True)\n",
    "%config InlineBackend.figure_format = 'retina'"
   ]
  },
  {
   "cell_type": "code",
   "execution_count": 2,
   "id": "57534e40",
   "metadata": {},
   "outputs": [],
   "source": [
    "df = pd.read_csv('rocketfuel_data.csv')"
   ]
  },
  {
   "cell_type": "code",
   "execution_count": 3,
   "id": "5998062b",
   "metadata": {},
   "outputs": [
    {
     "data": {
      "text/html": [
       "<div>\n",
       "<style scoped>\n",
       "    .dataframe tbody tr th:only-of-type {\n",
       "        vertical-align: middle;\n",
       "    }\n",
       "\n",
       "    .dataframe tbody tr th {\n",
       "        vertical-align: top;\n",
       "    }\n",
       "\n",
       "    .dataframe thead th {\n",
       "        text-align: right;\n",
       "    }\n",
       "</style>\n",
       "<table border=\"1\" class=\"dataframe\">\n",
       "  <thead>\n",
       "    <tr style=\"text-align: right;\">\n",
       "      <th></th>\n",
       "      <th>user_id</th>\n",
       "      <th>test</th>\n",
       "      <th>converted</th>\n",
       "      <th>tot_impr</th>\n",
       "      <th>mode_impr_day</th>\n",
       "      <th>mode_impr_hour</th>\n",
       "    </tr>\n",
       "  </thead>\n",
       "  <tbody>\n",
       "    <tr>\n",
       "      <th>0</th>\n",
       "      <td>1069124</td>\n",
       "      <td>1</td>\n",
       "      <td>0</td>\n",
       "      <td>130</td>\n",
       "      <td>1</td>\n",
       "      <td>20</td>\n",
       "    </tr>\n",
       "    <tr>\n",
       "      <th>1</th>\n",
       "      <td>1119715</td>\n",
       "      <td>1</td>\n",
       "      <td>0</td>\n",
       "      <td>93</td>\n",
       "      <td>2</td>\n",
       "      <td>22</td>\n",
       "    </tr>\n",
       "    <tr>\n",
       "      <th>2</th>\n",
       "      <td>1144181</td>\n",
       "      <td>1</td>\n",
       "      <td>0</td>\n",
       "      <td>21</td>\n",
       "      <td>2</td>\n",
       "      <td>18</td>\n",
       "    </tr>\n",
       "    <tr>\n",
       "      <th>3</th>\n",
       "      <td>1435133</td>\n",
       "      <td>1</td>\n",
       "      <td>0</td>\n",
       "      <td>355</td>\n",
       "      <td>2</td>\n",
       "      <td>10</td>\n",
       "    </tr>\n",
       "    <tr>\n",
       "      <th>4</th>\n",
       "      <td>1015700</td>\n",
       "      <td>1</td>\n",
       "      <td>0</td>\n",
       "      <td>276</td>\n",
       "      <td>5</td>\n",
       "      <td>14</td>\n",
       "    </tr>\n",
       "  </tbody>\n",
       "</table>\n",
       "</div>"
      ],
      "text/plain": [
       "   user_id  test  converted  tot_impr  mode_impr_day  mode_impr_hour\n",
       "0  1069124     1          0       130              1              20\n",
       "1  1119715     1          0        93              2              22\n",
       "2  1144181     1          0        21              2              18\n",
       "3  1435133     1          0       355              2              10\n",
       "4  1015700     1          0       276              5              14"
      ]
     },
     "execution_count": 3,
     "metadata": {},
     "output_type": "execute_result"
    }
   ],
   "source": [
    "df.head()"
   ]
  },
  {
   "cell_type": "code",
   "execution_count": 39,
   "id": "db62ff67",
   "metadata": {},
   "outputs": [
    {
     "data": {
      "text/html": [
       "<div>\n",
       "<style scoped>\n",
       "    .dataframe tbody tr th:only-of-type {\n",
       "        vertical-align: middle;\n",
       "    }\n",
       "\n",
       "    .dataframe tbody tr th {\n",
       "        vertical-align: top;\n",
       "    }\n",
       "\n",
       "    .dataframe thead th {\n",
       "        text-align: right;\n",
       "    }\n",
       "</style>\n",
       "<table border=\"1\" class=\"dataframe\">\n",
       "  <thead>\n",
       "    <tr style=\"text-align: right;\">\n",
       "      <th></th>\n",
       "      <th>user_id</th>\n",
       "      <th>test</th>\n",
       "      <th>converted</th>\n",
       "      <th>tot_impr</th>\n",
       "      <th>mode_impr_day</th>\n",
       "      <th>mode_impr_hour</th>\n",
       "    </tr>\n",
       "  </thead>\n",
       "  <tbody>\n",
       "    <tr>\n",
       "      <th>count</th>\n",
       "      <td>5.881010e+05</td>\n",
       "      <td>588101.000000</td>\n",
       "      <td>588101.000000</td>\n",
       "      <td>588101.000000</td>\n",
       "      <td>588101.000000</td>\n",
       "      <td>588101.000000</td>\n",
       "    </tr>\n",
       "    <tr>\n",
       "      <th>mean</th>\n",
       "      <td>1.310692e+06</td>\n",
       "      <td>0.960000</td>\n",
       "      <td>0.025239</td>\n",
       "      <td>24.820876</td>\n",
       "      <td>4.025533</td>\n",
       "      <td>14.469061</td>\n",
       "    </tr>\n",
       "    <tr>\n",
       "      <th>std</th>\n",
       "      <td>2.022260e+05</td>\n",
       "      <td>0.195959</td>\n",
       "      <td>0.156850</td>\n",
       "      <td>43.715181</td>\n",
       "      <td>2.004019</td>\n",
       "      <td>4.834634</td>\n",
       "    </tr>\n",
       "    <tr>\n",
       "      <th>min</th>\n",
       "      <td>9.000000e+05</td>\n",
       "      <td>0.000000</td>\n",
       "      <td>0.000000</td>\n",
       "      <td>1.000000</td>\n",
       "      <td>1.000000</td>\n",
       "      <td>0.000000</td>\n",
       "    </tr>\n",
       "    <tr>\n",
       "      <th>25%</th>\n",
       "      <td>1.143190e+06</td>\n",
       "      <td>1.000000</td>\n",
       "      <td>0.000000</td>\n",
       "      <td>4.000000</td>\n",
       "      <td>2.000000</td>\n",
       "      <td>11.000000</td>\n",
       "    </tr>\n",
       "    <tr>\n",
       "      <th>50%</th>\n",
       "      <td>1.313725e+06</td>\n",
       "      <td>1.000000</td>\n",
       "      <td>0.000000</td>\n",
       "      <td>13.000000</td>\n",
       "      <td>4.000000</td>\n",
       "      <td>14.000000</td>\n",
       "    </tr>\n",
       "    <tr>\n",
       "      <th>75%</th>\n",
       "      <td>1.484088e+06</td>\n",
       "      <td>1.000000</td>\n",
       "      <td>0.000000</td>\n",
       "      <td>27.000000</td>\n",
       "      <td>6.000000</td>\n",
       "      <td>18.000000</td>\n",
       "    </tr>\n",
       "    <tr>\n",
       "      <th>max</th>\n",
       "      <td>1.654483e+06</td>\n",
       "      <td>1.000000</td>\n",
       "      <td>1.000000</td>\n",
       "      <td>2065.000000</td>\n",
       "      <td>7.000000</td>\n",
       "      <td>23.000000</td>\n",
       "    </tr>\n",
       "  </tbody>\n",
       "</table>\n",
       "</div>"
      ],
      "text/plain": [
       "            user_id           test      converted       tot_impr  \\\n",
       "count  5.881010e+05  588101.000000  588101.000000  588101.000000   \n",
       "mean   1.310692e+06       0.960000       0.025239      24.820876   \n",
       "std    2.022260e+05       0.195959       0.156850      43.715181   \n",
       "min    9.000000e+05       0.000000       0.000000       1.000000   \n",
       "25%    1.143190e+06       1.000000       0.000000       4.000000   \n",
       "50%    1.313725e+06       1.000000       0.000000      13.000000   \n",
       "75%    1.484088e+06       1.000000       0.000000      27.000000   \n",
       "max    1.654483e+06       1.000000       1.000000    2065.000000   \n",
       "\n",
       "       mode_impr_day  mode_impr_hour  \n",
       "count  588101.000000   588101.000000  \n",
       "mean        4.025533       14.469061  \n",
       "std         2.004019        4.834634  \n",
       "min         1.000000        0.000000  \n",
       "25%         2.000000       11.000000  \n",
       "50%         4.000000       14.000000  \n",
       "75%         6.000000       18.000000  \n",
       "max         7.000000       23.000000  "
      ]
     },
     "execution_count": 39,
     "metadata": {},
     "output_type": "execute_result"
    }
   ],
   "source": [
    "df.describe()"
   ]
  },
  {
   "cell_type": "code",
   "execution_count": 4,
   "id": "71ed31e5",
   "metadata": {},
   "outputs": [
    {
     "data": {
      "text/plain": [
       "user_id           int64\n",
       "test              int64\n",
       "converted         int64\n",
       "tot_impr          int64\n",
       "mode_impr_day     int64\n",
       "mode_impr_hour    int64\n",
       "dtype: object"
      ]
     },
     "execution_count": 4,
     "metadata": {},
     "output_type": "execute_result"
    }
   ],
   "source": [
    "df.dtypes"
   ]
  },
  {
   "cell_type": "code",
   "execution_count": 5,
   "id": "3de99d7d",
   "metadata": {},
   "outputs": [
    {
     "data": {
      "text/plain": [
       "(588101, 6)"
      ]
     },
     "execution_count": 5,
     "metadata": {},
     "output_type": "execute_result"
    }
   ],
   "source": [
    "df.shape"
   ]
  },
  {
   "cell_type": "code",
   "execution_count": 6,
   "id": "919ef944",
   "metadata": {},
   "outputs": [
    {
     "data": {
      "text/html": [
       "<div>\n",
       "<style scoped>\n",
       "    .dataframe tbody tr th:only-of-type {\n",
       "        vertical-align: middle;\n",
       "    }\n",
       "\n",
       "    .dataframe tbody tr th {\n",
       "        vertical-align: top;\n",
       "    }\n",
       "\n",
       "    .dataframe thead th {\n",
       "        text-align: right;\n",
       "    }\n",
       "</style>\n",
       "<table border=\"1\" class=\"dataframe\">\n",
       "  <thead>\n",
       "    <tr style=\"text-align: right;\">\n",
       "      <th></th>\n",
       "      <th>count</th>\n",
       "      <th>percentage</th>\n",
       "    </tr>\n",
       "  </thead>\n",
       "  <tbody>\n",
       "    <tr>\n",
       "      <th>1</th>\n",
       "      <td>564577</td>\n",
       "      <td>0.96</td>\n",
       "    </tr>\n",
       "    <tr>\n",
       "      <th>0</th>\n",
       "      <td>23524</td>\n",
       "      <td>0.04</td>\n",
       "    </tr>\n",
       "  </tbody>\n",
       "</table>\n",
       "</div>"
      ],
      "text/plain": [
       "    count  percentage\n",
       "1  564577        0.96\n",
       "0   23524        0.04"
      ]
     },
     "execution_count": 6,
     "metadata": {},
     "output_type": "execute_result"
    }
   ],
   "source": [
    "pd.concat([df.test.value_counts(), df.test.value_counts(normalize=True)], \n",
    "          keys=['count','percentage'],\n",
    "          axis=1)"
   ]
  },
  {
   "cell_type": "code",
   "execution_count": 7,
   "id": "f6d14ac5",
   "metadata": {},
   "outputs": [
    {
     "data": {
      "text/html": [
       "<div>\n",
       "<style scoped>\n",
       "    .dataframe tbody tr th:only-of-type {\n",
       "        vertical-align: middle;\n",
       "    }\n",
       "\n",
       "    .dataframe tbody tr th {\n",
       "        vertical-align: top;\n",
       "    }\n",
       "\n",
       "    .dataframe thead th {\n",
       "        text-align: right;\n",
       "    }\n",
       "</style>\n",
       "<table border=\"1\" class=\"dataframe\">\n",
       "  <thead>\n",
       "    <tr style=\"text-align: right;\">\n",
       "      <th>converted</th>\n",
       "      <th>0</th>\n",
       "      <th>1</th>\n",
       "      <th>All</th>\n",
       "    </tr>\n",
       "    <tr>\n",
       "      <th>test</th>\n",
       "      <th></th>\n",
       "      <th></th>\n",
       "      <th></th>\n",
       "    </tr>\n",
       "  </thead>\n",
       "  <tbody>\n",
       "    <tr>\n",
       "      <th>0</th>\n",
       "      <td>23104</td>\n",
       "      <td>420</td>\n",
       "      <td>23524</td>\n",
       "    </tr>\n",
       "    <tr>\n",
       "      <th>1</th>\n",
       "      <td>550154</td>\n",
       "      <td>14423</td>\n",
       "      <td>564577</td>\n",
       "    </tr>\n",
       "    <tr>\n",
       "      <th>All</th>\n",
       "      <td>573258</td>\n",
       "      <td>14843</td>\n",
       "      <td>588101</td>\n",
       "    </tr>\n",
       "  </tbody>\n",
       "</table>\n",
       "</div>"
      ],
      "text/plain": [
       "converted       0      1     All\n",
       "test                            \n",
       "0           23104    420   23524\n",
       "1          550154  14423  564577\n",
       "All        573258  14843  588101"
      ]
     },
     "execution_count": 7,
     "metadata": {},
     "output_type": "execute_result"
    }
   ],
   "source": [
    "pd.crosstab(df.test, df.converted, normalize=False, margins=True)"
   ]
  },
  {
   "cell_type": "code",
   "execution_count": 8,
   "id": "39a8a926",
   "metadata": {},
   "outputs": [
    {
     "data": {
      "text/html": [
       "<div>\n",
       "<style scoped>\n",
       "    .dataframe tbody tr th:only-of-type {\n",
       "        vertical-align: middle;\n",
       "    }\n",
       "\n",
       "    .dataframe tbody tr th {\n",
       "        vertical-align: top;\n",
       "    }\n",
       "\n",
       "    .dataframe thead th {\n",
       "        text-align: right;\n",
       "    }\n",
       "</style>\n",
       "<table border=\"1\" class=\"dataframe\">\n",
       "  <thead>\n",
       "    <tr style=\"text-align: right;\">\n",
       "      <th></th>\n",
       "      <th>count</th>\n",
       "      <th>percentage</th>\n",
       "    </tr>\n",
       "  </thead>\n",
       "  <tbody>\n",
       "    <tr>\n",
       "      <th>0</th>\n",
       "      <td>23104</td>\n",
       "      <td>0.982146</td>\n",
       "    </tr>\n",
       "    <tr>\n",
       "      <th>1</th>\n",
       "      <td>420</td>\n",
       "      <td>0.017854</td>\n",
       "    </tr>\n",
       "  </tbody>\n",
       "</table>\n",
       "</div>"
      ],
      "text/plain": [
       "   count  percentage\n",
       "0  23104    0.982146\n",
       "1    420    0.017854"
      ]
     },
     "execution_count": 8,
     "metadata": {},
     "output_type": "execute_result"
    }
   ],
   "source": [
    "pd.concat([df[df.test==0].converted.value_counts(), df[df.test==0].converted.value_counts(normalize=True)], \n",
    "          keys=['count','percentage'],\n",
    "          axis=1)"
   ]
  },
  {
   "cell_type": "code",
   "execution_count": 9,
   "id": "d6f581f7",
   "metadata": {},
   "outputs": [
    {
     "data": {
      "text/html": [
       "<div>\n",
       "<style scoped>\n",
       "    .dataframe tbody tr th:only-of-type {\n",
       "        vertical-align: middle;\n",
       "    }\n",
       "\n",
       "    .dataframe tbody tr th {\n",
       "        vertical-align: top;\n",
       "    }\n",
       "\n",
       "    .dataframe thead th {\n",
       "        text-align: right;\n",
       "    }\n",
       "</style>\n",
       "<table border=\"1\" class=\"dataframe\">\n",
       "  <thead>\n",
       "    <tr style=\"text-align: right;\">\n",
       "      <th></th>\n",
       "      <th>count</th>\n",
       "      <th>percentage</th>\n",
       "    </tr>\n",
       "  </thead>\n",
       "  <tbody>\n",
       "    <tr>\n",
       "      <th>0</th>\n",
       "      <td>550154</td>\n",
       "      <td>0.974453</td>\n",
       "    </tr>\n",
       "    <tr>\n",
       "      <th>1</th>\n",
       "      <td>14423</td>\n",
       "      <td>0.025547</td>\n",
       "    </tr>\n",
       "  </tbody>\n",
       "</table>\n",
       "</div>"
      ],
      "text/plain": [
       "    count  percentage\n",
       "0  550154    0.974453\n",
       "1   14423    0.025547"
      ]
     },
     "execution_count": 9,
     "metadata": {},
     "output_type": "execute_result"
    }
   ],
   "source": [
    "pd.concat([df[df.test==1].converted.value_counts(), df[df.test==1].converted.value_counts(normalize=True)], \n",
    "          keys=['count','percentage'],\n",
    "          axis=1)"
   ]
  },
  {
   "cell_type": "markdown",
   "id": "304b7bce",
   "metadata": {},
   "source": [
    "# Part-1: Was the advertising campaign effective?\n",
    "\n",
    "a. Explain the experimental setup, describe what the control group was exposed to and what\n",
    "would be some alternatives.\n",
    "\n",
    "> Treatment group was exposed to the campaign ad, while the control group (4%) was exposed to\n",
    "a public service announcement (PSA) such as Mothers Against Drunk Driving (MADD), Wilfire Prevention etc. An alternative would have been to not show anything to the control group users.\n",
    "\n",
    "b. Did additional consumers convert as a result of the ad campaign? Compare the test and\n",
    "control groups and run a statistical test.\n",
    "\n",
    "> **Check analysis below**\n",
    "\n",
    "c. Discuss why the control and test groups were randomized and how you can reassure\n",
    "Taskabella that randomization was properly done.\n",
    "\n",
    "> Randomization is done in an experiment to ensure there are no observed/unobserved heterogenity between the treatment/test and control populations. If users are shown the campaign ad based on whether they are more likely to convert, then the randomization is not done correctly, and the effect of the treatment is going to be an overestimate.\n",
    "\n",
    "d. Was the size of the control group properly chosen, would you recommend a different size for\n",
    "the next experiment?\n",
    "\n",
    "> Control group size is small. **Need more research on this**"
   ]
  },
  {
   "cell_type": "code",
   "execution_count": 35,
   "id": "dbdff0a6",
   "metadata": {},
   "outputs": [
    {
     "data": {
      "text/plain": [
       "708996.6416000001"
      ]
     },
     "execution_count": 35,
     "metadata": {},
     "output_type": "execute_result"
    }
   ],
   "source": [
    "(1.96+0.84/0.001)**2 + (1/0.02 + 1/0.02)"
   ]
  },
  {
   "cell_type": "markdown",
   "id": "e4d5e74f",
   "metadata": {},
   "source": [
    "# One tailed T-Test between treatment and control conversion\n",
    "\n",
    "**Null Hypothesis: Conversion rate of treatment group is <= Conversion rate of control group**\n",
    "\n",
    "**Alternative Hypothesis: Conversion rate of treatment group is > Conversion rate of control group**"
   ]
  },
  {
   "cell_type": "code",
   "execution_count": 10,
   "id": "c78170b0",
   "metadata": {},
   "outputs": [
    {
     "name": "stdout",
     "output_type": "stream",
     "text": [
      "Total users=588101, treatment=564577, control=23524\n"
     ]
    }
   ],
   "source": [
    "n = len(df)\n",
    "n_t = len(df[df['test'] == 1])\n",
    "n_c = len(df[df['test'] == 0])\n",
    "print(f\"Total users={n}, treatment={n_t}, control={n_c}\")"
   ]
  },
  {
   "cell_type": "code",
   "execution_count": 11,
   "id": "9eefd15d",
   "metadata": {},
   "outputs": [],
   "source": [
    "condition_treatment_converted = (df['test'] == 1) & (df['converted'] == 1)\n",
    "condition_control_converted = (df['test'] == 0) & (df['converted'] == 1)"
   ]
  },
  {
   "cell_type": "code",
   "execution_count": 48,
   "id": "f38a69f9",
   "metadata": {},
   "outputs": [
    {
     "name": "stdout",
     "output_type": "stream",
     "text": [
      "Total users=588101, treatment converted=14423, control converted=420\n"
     ]
    }
   ],
   "source": [
    "n_t_conv = len(df[condition_treatment_converted])\n",
    "n_c_conv = len(df[condition_control_converted])\n",
    "print(f\"treatment converted={n_t_conv}, control converted={n_c_conv}\")"
   ]
  },
  {
   "cell_type": "code",
   "execution_count": 50,
   "id": "0dc18398",
   "metadata": {},
   "outputs": [
    {
     "name": "stdout",
     "output_type": "stream",
     "text": [
      "treatment conversion rate=0.0255, control conversion rate=0.0179\n"
     ]
    }
   ],
   "source": [
    "p_t = round(len(df[condition_treatment_converted]) / len(df[df['test'] == 1]),4)\n",
    "p_c = round(len(df[condition_control_converted]) / len(df[df['test'] == 0]), 4)\n",
    "print(f\"treatment conversion rate={p_t}, control conversion rate={p_c}\")"
   ]
  },
  {
   "cell_type": "code",
   "execution_count": 13,
   "id": "15d96a7c",
   "metadata": {},
   "outputs": [
    {
     "name": "stdout",
     "output_type": "stream",
     "text": [
      "0.0002 0.0009\n"
     ]
    }
   ],
   "source": [
    "s_t = round(math.sqrt((p_t*(1 - p_t))/n_t),4)\n",
    "s_c = round(math.sqrt((p_c*(1 - p_c))/n_c),4)\n",
    "print(s_t, s_c)"
   ]
  },
  {
   "cell_type": "code",
   "execution_count": 14,
   "id": "9e84e04f",
   "metadata": {},
   "outputs": [
    {
     "data": {
      "text/plain": [
       "0.0009"
      ]
     },
     "execution_count": 14,
     "metadata": {},
     "output_type": "execute_result"
    }
   ],
   "source": [
    "# SE for T-Test\n",
    "se = round(math.sqrt( p_t*(1 - p_t)/n_t + p_c*(1 - p_c)/n_c), 4)\n",
    "se"
   ]
  },
  {
   "cell_type": "code",
   "execution_count": 15,
   "id": "dc3894c7",
   "metadata": {},
   "outputs": [
    {
     "data": {
      "text/plain": [
       "8.444444444444443"
      ]
     },
     "execution_count": 15,
     "metadata": {},
     "output_type": "execute_result"
    }
   ],
   "source": [
    "z = (p_t - p_c)/se\n",
    "z"
   ]
  },
  {
   "cell_type": "markdown",
   "id": "a68683c2",
   "metadata": {},
   "source": [
    "**The critical Z score with an alpha of 0.05 (one tailed) is 1.645. Since 8.44 >> 1.645, we reject the null hypothesis. The campaign, as executed, helped in ad conversion.**"
   ]
  },
  {
   "cell_type": "markdown",
   "id": "757625d2",
   "metadata": {},
   "source": [
    "# Part-2: Was the campaign profitable? (***Revisit)\n",
    "\n",
    "a. What is the expected financial impact from the conversions resulting from the ads (excluding\n",
    "all advertising costs)? In other words, how much more money is TaskaBella making by\n",
    "running the advertising?\n",
    "\n",
    "b. How much was the cost of the ad campaign?\n",
    "\n",
    "c. Calculate the ROI of the campaign. Was the campaign worth it?\n",
    "\n",
    "d. What was the opportunity cost of including a control group; how much more could have\n",
    "TaskaBella made with a smaller control group or not having a control group at all?"
   ]
  },
  {
   "cell_type": "code",
   "execution_count": 45,
   "id": "ec033a54",
   "metadata": {},
   "outputs": [
    {
     "data": {
      "text/plain": [
       "171631.40799999997"
      ]
     },
     "execution_count": 45,
     "metadata": {},
     "output_type": "execute_result"
    }
   ],
   "source": [
    "\"\"\" \n",
    "Effect of ads = conversion due to ads = \n",
    "(conversion rate of treatment group - conversion of control group ) * size of treated group\n",
    "\n",
    "$ 40 = Profit per bag\n",
    "\"\"\"\n",
    "(p_t - p_c) * n_t * 40"
   ]
  },
  {
   "cell_type": "code",
   "execution_count": 46,
   "id": "e7e37497",
   "metadata": {},
   "outputs": [
    {
     "data": {
      "text/plain": [
       "131374.638"
      ]
     },
     "execution_count": 46,
     "metadata": {},
     "output_type": "execute_result"
    }
   ],
   "source": [
    "\"\"\"\n",
    "Cost of ad campaign at CPM of $9 =  (total impressions / 1000) * 9\n",
    "\"\"\"\n",
    "(sum(df['tot_impr'])/1000) * 9"
   ]
  },
  {
   "cell_type": "code",
   "execution_count": 47,
   "id": "af2e33a9",
   "metadata": {},
   "outputs": [
    {
     "data": {
      "text/plain": [
       "40256.76999999999"
      ]
     },
     "execution_count": 47,
     "metadata": {},
     "output_type": "execute_result"
    }
   ],
   "source": [
    "\"\"\" \n",
    "ROI = Revenue due to campaign - Cost of campaign\n",
    "\"\"\"\n",
    "roi = (p_t * n_t - p_c * n_t) * 40 - (sum(df['tot_impr'])/1000) * 9\n",
    "roi"
   ]
  },
  {
   "cell_type": "code",
   "execution_count": 38,
   "id": "8f9a75bd",
   "metadata": {},
   "outputs": [
    {
     "data": {
      "text/plain": [
       "7151.2959999999985"
      ]
     },
     "execution_count": 38,
     "metadata": {},
     "output_type": "execute_result"
    }
   ],
   "source": [
    "\"\"\"\n",
    "Opportunity Cost of including Control Group = \n",
    "\n",
    "(conversion rate of treatment group - conversion of control group ) * size of control group\n",
    "\n",
    "\"\"\"\n",
    "(p_t - p_c) * n_c * 40"
   ]
  },
  {
   "cell_type": "code",
   "execution_count": null,
   "id": "c02f7da8",
   "metadata": {},
   "outputs": [],
   "source": []
  },
  {
   "cell_type": "markdown",
   "id": "79befb48",
   "metadata": {},
   "source": [
    "# Part-3: How did the number of impressions seen by each user influence the effectiveness of advertising?\n",
    "\n",
    "a. Plot the percentage of users converting among those in the control group and among those\n",
    "exposed to the ad as functions of impressions seen (number of impressions on x axis,\n",
    "percentage of converting users on y axis). Group together numbers of impressions as\n",
    "necessary to obtain a meaningful plot and pick a reasonable range for the highest number of\n",
    "impressions displayed.\n",
    "\n",
    "b. What can you infer from the plot? In what region is advertising most effective?\n",
    "\n",
    "c. What do the above figures imply for the design of the next campaign assuming that consumer\n",
    "response would be similar?"
   ]
  },
  {
   "cell_type": "code",
   "execution_count": 19,
   "id": "f2d279d9",
   "metadata": {},
   "outputs": [
    {
     "data": {
      "text/plain": [
       "count    588101.000000\n",
       "mean         24.820876\n",
       "std          43.715181\n",
       "min           1.000000\n",
       "0%            1.000000\n",
       "5%            1.000000\n",
       "10%           2.000000\n",
       "15%           2.000000\n",
       "20%           3.000000\n",
       "25%           4.000000\n",
       "30%           5.000000\n",
       "35%           7.000000\n",
       "40%           8.000000\n",
       "45%          11.000000\n",
       "50%          13.000000\n",
       "55%          15.000000\n",
       "60%          17.000000\n",
       "65%          20.000000\n",
       "70%          24.000000\n",
       "75%          27.000000\n",
       "80%          33.000000\n",
       "85%          42.000000\n",
       "90%          57.000000\n",
       "95%          88.000000\n",
       "96%          99.000000\n",
       "97%         116.000000\n",
       "98%         143.000000\n",
       "99%         202.000000\n",
       "max        2065.000000\n",
       "Name: tot_impr, dtype: float64"
      ]
     },
     "execution_count": 19,
     "metadata": {},
     "output_type": "execute_result"
    }
   ],
   "source": [
    "df['tot_impr'].describe(percentiles=[r for r in np.arange(0,1,0.05)]+[0.96,0.97,0.98,0.99])"
   ]
  },
  {
   "cell_type": "code",
   "execution_count": 20,
   "id": "4b88200e",
   "metadata": {},
   "outputs": [
    {
     "data": {
      "text/plain": [
       "<Axes: xlabel='tot_impr', ylabel='Count'>"
      ]
     },
     "execution_count": 20,
     "metadata": {},
     "output_type": "execute_result"
    },
    {
     "data": {
      "image/png": "[encoded data removed]",
      "text/plain": [
       "<Figure size 640x480 with 1 Axes>"
      ]
     },
     "metadata": {
      "image/png": {
       "height": 434,
       "width": 571
      }
     },
     "output_type": "display_data"
    }
   ],
   "source": [
    "#sns.set(rc={'figure.figsize':(10,10)})\n",
    "sns.histplot(data=df[df.converted==1], x=\"tot_impr\", hue=\"test\", log_scale=True)"
   ]
  },
  {
   "cell_type": "code",
   "execution_count": 21,
   "id": "a1801313",
   "metadata": {},
   "outputs": [
    {
     "name": "stdout",
     "output_type": "stream",
     "text": [
      "[0, 10, 20, 30, 40]\n",
      "[250, 500, 1000, 2000, 2500]\n"
     ]
    }
   ],
   "source": [
    "bins = [r for r in range(0,210,10)] + [250,500,1000,2000,2500]  # Adjust the bin edges as needed\n",
    "print(bins[:5])\n",
    "print(bins[-5:])"
   ]
  },
  {
   "cell_type": "code",
   "execution_count": 22,
   "id": "85f44c45",
   "metadata": {},
   "outputs": [
    {
     "data": {
      "text/html": [
       "<div>\n",
       "<style scoped>\n",
       "    .dataframe tbody tr th:only-of-type {\n",
       "        vertical-align: middle;\n",
       "    }\n",
       "\n",
       "    .dataframe tbody tr th {\n",
       "        vertical-align: top;\n",
       "    }\n",
       "\n",
       "    .dataframe thead th {\n",
       "        text-align: right;\n",
       "    }\n",
       "</style>\n",
       "<table border=\"1\" class=\"dataframe\">\n",
       "  <thead>\n",
       "    <tr style=\"text-align: right;\">\n",
       "      <th></th>\n",
       "      <th>user_id</th>\n",
       "      <th>test</th>\n",
       "      <th>converted</th>\n",
       "      <th>tot_impr</th>\n",
       "      <th>mode_impr_day</th>\n",
       "      <th>mode_impr_hour</th>\n",
       "      <th>tot_impr_bins</th>\n",
       "    </tr>\n",
       "  </thead>\n",
       "  <tbody>\n",
       "    <tr>\n",
       "      <th>0</th>\n",
       "      <td>1069124</td>\n",
       "      <td>1</td>\n",
       "      <td>0</td>\n",
       "      <td>130</td>\n",
       "      <td>1</td>\n",
       "      <td>20</td>\n",
       "      <td>(120, 130]</td>\n",
       "    </tr>\n",
       "    <tr>\n",
       "      <th>1</th>\n",
       "      <td>1119715</td>\n",
       "      <td>1</td>\n",
       "      <td>0</td>\n",
       "      <td>93</td>\n",
       "      <td>2</td>\n",
       "      <td>22</td>\n",
       "      <td>(90, 100]</td>\n",
       "    </tr>\n",
       "    <tr>\n",
       "      <th>2</th>\n",
       "      <td>1144181</td>\n",
       "      <td>1</td>\n",
       "      <td>0</td>\n",
       "      <td>21</td>\n",
       "      <td>2</td>\n",
       "      <td>18</td>\n",
       "      <td>(20, 30]</td>\n",
       "    </tr>\n",
       "    <tr>\n",
       "      <th>3</th>\n",
       "      <td>1435133</td>\n",
       "      <td>1</td>\n",
       "      <td>0</td>\n",
       "      <td>355</td>\n",
       "      <td>2</td>\n",
       "      <td>10</td>\n",
       "      <td>(250, 500]</td>\n",
       "    </tr>\n",
       "    <tr>\n",
       "      <th>4</th>\n",
       "      <td>1015700</td>\n",
       "      <td>1</td>\n",
       "      <td>0</td>\n",
       "      <td>276</td>\n",
       "      <td>5</td>\n",
       "      <td>14</td>\n",
       "      <td>(250, 500]</td>\n",
       "    </tr>\n",
       "  </tbody>\n",
       "</table>\n",
       "</div>"
      ],
      "text/plain": [
       "   user_id  test  converted  tot_impr  mode_impr_day  mode_impr_hour  \\\n",
       "0  1069124     1          0       130              1              20   \n",
       "1  1119715     1          0        93              2              22   \n",
       "2  1144181     1          0        21              2              18   \n",
       "3  1435133     1          0       355              2              10   \n",
       "4  1015700     1          0       276              5              14   \n",
       "\n",
       "  tot_impr_bins  \n",
       "0    (120, 130]  \n",
       "1     (90, 100]  \n",
       "2      (20, 30]  \n",
       "3    (250, 500]  \n",
       "4    (250, 500]  "
      ]
     },
     "execution_count": 22,
     "metadata": {},
     "output_type": "execute_result"
    }
   ],
   "source": [
    "df['tot_impr_bins'] = pd.cut(df['tot_impr'], bins=bins)\n",
    "df.head()"
   ]
  },
  {
   "cell_type": "code",
   "execution_count": 23,
   "id": "6adc7cdc",
   "metadata": {},
   "outputs": [
    {
     "name": "stdout",
     "output_type": "stream",
     "text": [
      "   test tot_impr_bins  converted\n",
      "0     0       (0, 10]         45\n",
      "1     0      (10, 20]         34\n",
      "2     0      (20, 30]         46\n",
      "3     0      (30, 40]         40\n",
      "4     0      (40, 50]         28\n",
      "    test tot_impr_bins  converted\n",
      "45     1    (200, 250]        333\n",
      "46     1    (250, 500]        455\n",
      "47     1   (500, 1000]         91\n",
      "48     1  (1000, 2000]          8\n",
      "49     1  (2000, 2500]          0\n"
     ]
    }
   ],
   "source": [
    "df1 = df.groupby(by=['test','tot_impr_bins'])['converted'].sum().reset_index()\n",
    "print(df1.head())\n",
    "print(df1.tail())"
   ]
  },
  {
   "cell_type": "code",
   "execution_count": 24,
   "id": "b6f1ad17",
   "metadata": {},
   "outputs": [
    {
     "name": "stdout",
     "output_type": "stream",
     "text": [
      "   test tot_impr_bins  converted  converted_pct_binned\n",
      "0     0       (0, 10]         45              0.001913\n",
      "1     0      (10, 20]         34              0.001445\n",
      "2     0      (20, 30]         46              0.001955\n",
      "3     0      (30, 40]         40              0.001700\n",
      "4     0      (40, 50]         28              0.001190\n",
      "    test tot_impr_bins  converted  converted_pct_binned\n",
      "45     1    (200, 250]        333              0.000590\n",
      "46     1    (250, 500]        455              0.000806\n",
      "47     1   (500, 1000]         91              0.000161\n",
      "48     1  (1000, 2000]          8              0.000014\n",
      "49     1  (2000, 2500]          0              0.000000\n"
     ]
    }
   ],
   "source": [
    "df1['converted_pct_binned'] = df1.apply(lambda row: row['converted']/n_t if row['test'] == 1 \n",
    "                                                    else row['converted']/n_c, \n",
    "                                        axis=1)\n",
    "print(df1.head())\n",
    "print(df1.tail())"
   ]
  },
  {
   "cell_type": "code",
   "execution_count": 25,
   "id": "900af3d5",
   "metadata": {},
   "outputs": [
    {
     "data": {
      "text/plain": [
       "[Text(0, 0, '(0, 10]'),\n",
       " Text(1, 0, '(10, 20]'),\n",
       " Text(2, 0, '(20, 30]'),\n",
       " Text(3, 0, '(30, 40]'),\n",
       " Text(4, 0, '(40, 50]'),\n",
       " Text(5, 0, '(50, 60]'),\n",
       " Text(6, 0, '(60, 70]'),\n",
       " Text(7, 0, '(70, 80]'),\n",
       " Text(8, 0, '(80, 90]'),\n",
       " Text(9, 0, '(90, 100]'),\n",
       " Text(10, 0, '(100, 110]'),\n",
       " Text(11, 0, '(110, 120]'),\n",
       " Text(12, 0, '(120, 130]'),\n",
       " Text(13, 0, '(130, 140]'),\n",
       " Text(14, 0, '(140, 150]'),\n",
       " Text(15, 0, '(150, 160]'),\n",
       " Text(16, 0, '(160, 170]'),\n",
       " Text(17, 0, '(170, 180]'),\n",
       " Text(18, 0, '(180, 190]'),\n",
       " Text(19, 0, '(190, 200]'),\n",
       " Text(20, 0, '(200, 250]'),\n",
       " Text(21, 0, '(250, 500]'),\n",
       " Text(22, 0, '(500, 1000]'),\n",
       " Text(23, 0, '(1000, 2000]'),\n",
       " Text(24, 0, '(2000, 2500]')]"
      ]
     },
     "execution_count": 25,
     "metadata": {},
     "output_type": "execute_result"
    },
    {
     "data": {
      "image/png": "[encoded data removed]",
      "text/plain": [
       "<Figure size 640x480 with 1 Axes>"
      ]
     },
     "metadata": {
      "image/png": {
       "height": 509,
       "width": 594
      }
     },
     "output_type": "display_data"
    }
   ],
   "source": [
    "pt = sns.barplot(data=df1, x=\"tot_impr_bins\", y=\"converted_pct_binned\", hue=\"test\")\n",
    "pt.set_xticklabels(pt.get_xticklabels(), rotation=90)"
   ]
  },
  {
   "cell_type": "markdown",
   "id": "a0dca362",
   "metadata": {},
   "source": [
    "\n",
    "- **Ad campaign is most effective when impressions are between 20 and 140 & most promiment between 30 and 130**\n",
    "- **Limit the num of impression to the same user within 130 to save on ad costs / CPM**"
   ]
  },
  {
   "cell_type": "markdown",
   "id": "e8ba9d04",
   "metadata": {},
   "source": [
    "# Part 4: \n",
    "\n",
    "How does consumer response to advertising vary on different days of the week and at different times\n",
    "of the day?\n",
    "\n",
    "a. Plot the percentage of users converting among those in the control group and among those\n",
    "exposed to the ad as a function of the day of the week (mode_impr_day on x axis, percentage\n",
    "of converting users on y axis )\n",
    "\n",
    "b. Draw the same plot for hours within a day (mode_impr_hour, excluding the period between\n",
    "midnight and 8am).\n",
    "\n",
    "c. What days/hours is advertising the most/least effective?"
   ]
  },
  {
   "cell_type": "code",
   "execution_count": 26,
   "id": "0456005b",
   "metadata": {},
   "outputs": [
    {
     "data": {
      "text/html": [
       "<div>\n",
       "<style scoped>\n",
       "    .dataframe tbody tr th:only-of-type {\n",
       "        vertical-align: middle;\n",
       "    }\n",
       "\n",
       "    .dataframe tbody tr th {\n",
       "        vertical-align: top;\n",
       "    }\n",
       "\n",
       "    .dataframe thead th {\n",
       "        text-align: right;\n",
       "    }\n",
       "</style>\n",
       "<table border=\"1\" class=\"dataframe\">\n",
       "  <thead>\n",
       "    <tr style=\"text-align: right;\">\n",
       "      <th></th>\n",
       "      <th>test</th>\n",
       "      <th>mode_impr_day</th>\n",
       "      <th>converted</th>\n",
       "    </tr>\n",
       "  </thead>\n",
       "  <tbody>\n",
       "    <tr>\n",
       "      <th>0</th>\n",
       "      <td>0</td>\n",
       "      <td>1</td>\n",
       "      <td>79</td>\n",
       "    </tr>\n",
       "    <tr>\n",
       "      <th>1</th>\n",
       "      <td>0</td>\n",
       "      <td>2</td>\n",
       "      <td>42</td>\n",
       "    </tr>\n",
       "    <tr>\n",
       "      <th>2</th>\n",
       "      <td>0</td>\n",
       "      <td>3</td>\n",
       "      <td>55</td>\n",
       "    </tr>\n",
       "    <tr>\n",
       "      <th>3</th>\n",
       "      <td>0</td>\n",
       "      <td>4</td>\n",
       "      <td>79</td>\n",
       "    </tr>\n",
       "    <tr>\n",
       "      <th>4</th>\n",
       "      <td>0</td>\n",
       "      <td>5</td>\n",
       "      <td>62</td>\n",
       "    </tr>\n",
       "    <tr>\n",
       "      <th>5</th>\n",
       "      <td>0</td>\n",
       "      <td>6</td>\n",
       "      <td>40</td>\n",
       "    </tr>\n",
       "    <tr>\n",
       "      <th>6</th>\n",
       "      <td>0</td>\n",
       "      <td>7</td>\n",
       "      <td>63</td>\n",
       "    </tr>\n",
       "    <tr>\n",
       "      <th>7</th>\n",
       "      <td>1</td>\n",
       "      <td>1</td>\n",
       "      <td>2778</td>\n",
       "    </tr>\n",
       "    <tr>\n",
       "      <th>8</th>\n",
       "      <td>1</td>\n",
       "      <td>2</td>\n",
       "      <td>2270</td>\n",
       "    </tr>\n",
       "    <tr>\n",
       "      <th>9</th>\n",
       "      <td>1</td>\n",
       "      <td>3</td>\n",
       "      <td>1963</td>\n",
       "    </tr>\n",
       "    <tr>\n",
       "      <th>10</th>\n",
       "      <td>1</td>\n",
       "      <td>4</td>\n",
       "      <td>1711</td>\n",
       "    </tr>\n",
       "    <tr>\n",
       "      <th>11</th>\n",
       "      <td>1</td>\n",
       "      <td>5</td>\n",
       "      <td>1995</td>\n",
       "    </tr>\n",
       "    <tr>\n",
       "      <th>12</th>\n",
       "      <td>1</td>\n",
       "      <td>6</td>\n",
       "      <td>1679</td>\n",
       "    </tr>\n",
       "    <tr>\n",
       "      <th>13</th>\n",
       "      <td>1</td>\n",
       "      <td>7</td>\n",
       "      <td>2027</td>\n",
       "    </tr>\n",
       "  </tbody>\n",
       "</table>\n",
       "</div>"
      ],
      "text/plain": [
       "    test  mode_impr_day  converted\n",
       "0      0              1         79\n",
       "1      0              2         42\n",
       "2      0              3         55\n",
       "3      0              4         79\n",
       "4      0              5         62\n",
       "5      0              6         40\n",
       "6      0              7         63\n",
       "7      1              1       2778\n",
       "8      1              2       2270\n",
       "9      1              3       1963\n",
       "10     1              4       1711\n",
       "11     1              5       1995\n",
       "12     1              6       1679\n",
       "13     1              7       2027"
      ]
     },
     "execution_count": 26,
     "metadata": {},
     "output_type": "execute_result"
    }
   ],
   "source": [
    "df2 = df.groupby(by=['test','mode_impr_day'])['converted'].sum().reset_index()\n",
    "df2"
   ]
  },
  {
   "cell_type": "code",
   "execution_count": 42,
   "id": "406e5a7a",
   "metadata": {},
   "outputs": [
    {
     "data": {
      "text/plain": [
       "79"
      ]
     },
     "execution_count": 42,
     "metadata": {},
     "output_type": "execute_result"
    }
   ],
   "source": [
    "# Cross check\n",
    "df2[(df2.mode_impr_day==1) & (df2.test==0)]['converted'].sum()"
   ]
  },
  {
   "cell_type": "code",
   "execution_count": 27,
   "id": "2933feba",
   "metadata": {},
   "outputs": [
    {
     "data": {
      "text/html": [
       "<div>\n",
       "<style scoped>\n",
       "    .dataframe tbody tr th:only-of-type {\n",
       "        vertical-align: middle;\n",
       "    }\n",
       "\n",
       "    .dataframe tbody tr th {\n",
       "        vertical-align: top;\n",
       "    }\n",
       "\n",
       "    .dataframe thead th {\n",
       "        text-align: right;\n",
       "    }\n",
       "</style>\n",
       "<table border=\"1\" class=\"dataframe\">\n",
       "  <thead>\n",
       "    <tr style=\"text-align: right;\">\n",
       "      <th></th>\n",
       "      <th>test</th>\n",
       "      <th>mode_impr_day</th>\n",
       "      <th>converted</th>\n",
       "      <th>converted_pct_binned</th>\n",
       "    </tr>\n",
       "  </thead>\n",
       "  <tbody>\n",
       "    <tr>\n",
       "      <th>0</th>\n",
       "      <td>0</td>\n",
       "      <td>1</td>\n",
       "      <td>79</td>\n",
       "      <td>0.003358</td>\n",
       "    </tr>\n",
       "    <tr>\n",
       "      <th>1</th>\n",
       "      <td>0</td>\n",
       "      <td>2</td>\n",
       "      <td>42</td>\n",
       "      <td>0.001785</td>\n",
       "    </tr>\n",
       "    <tr>\n",
       "      <th>2</th>\n",
       "      <td>0</td>\n",
       "      <td>3</td>\n",
       "      <td>55</td>\n",
       "      <td>0.002338</td>\n",
       "    </tr>\n",
       "    <tr>\n",
       "      <th>3</th>\n",
       "      <td>0</td>\n",
       "      <td>4</td>\n",
       "      <td>79</td>\n",
       "      <td>0.003358</td>\n",
       "    </tr>\n",
       "    <tr>\n",
       "      <th>4</th>\n",
       "      <td>0</td>\n",
       "      <td>5</td>\n",
       "      <td>62</td>\n",
       "      <td>0.002636</td>\n",
       "    </tr>\n",
       "    <tr>\n",
       "      <th>5</th>\n",
       "      <td>0</td>\n",
       "      <td>6</td>\n",
       "      <td>40</td>\n",
       "      <td>0.001700</td>\n",
       "    </tr>\n",
       "    <tr>\n",
       "      <th>6</th>\n",
       "      <td>0</td>\n",
       "      <td>7</td>\n",
       "      <td>63</td>\n",
       "      <td>0.002678</td>\n",
       "    </tr>\n",
       "    <tr>\n",
       "      <th>7</th>\n",
       "      <td>1</td>\n",
       "      <td>1</td>\n",
       "      <td>2778</td>\n",
       "      <td>0.004920</td>\n",
       "    </tr>\n",
       "    <tr>\n",
       "      <th>8</th>\n",
       "      <td>1</td>\n",
       "      <td>2</td>\n",
       "      <td>2270</td>\n",
       "      <td>0.004021</td>\n",
       "    </tr>\n",
       "    <tr>\n",
       "      <th>9</th>\n",
       "      <td>1</td>\n",
       "      <td>3</td>\n",
       "      <td>1963</td>\n",
       "      <td>0.003477</td>\n",
       "    </tr>\n",
       "    <tr>\n",
       "      <th>10</th>\n",
       "      <td>1</td>\n",
       "      <td>4</td>\n",
       "      <td>1711</td>\n",
       "      <td>0.003031</td>\n",
       "    </tr>\n",
       "    <tr>\n",
       "      <th>11</th>\n",
       "      <td>1</td>\n",
       "      <td>5</td>\n",
       "      <td>1995</td>\n",
       "      <td>0.003534</td>\n",
       "    </tr>\n",
       "    <tr>\n",
       "      <th>12</th>\n",
       "      <td>1</td>\n",
       "      <td>6</td>\n",
       "      <td>1679</td>\n",
       "      <td>0.002974</td>\n",
       "    </tr>\n",
       "    <tr>\n",
       "      <th>13</th>\n",
       "      <td>1</td>\n",
       "      <td>7</td>\n",
       "      <td>2027</td>\n",
       "      <td>0.003590</td>\n",
       "    </tr>\n",
       "  </tbody>\n",
       "</table>\n",
       "</div>"
      ],
      "text/plain": [
       "    test  mode_impr_day  converted  converted_pct_binned\n",
       "0      0              1         79              0.003358\n",
       "1      0              2         42              0.001785\n",
       "2      0              3         55              0.002338\n",
       "3      0              4         79              0.003358\n",
       "4      0              5         62              0.002636\n",
       "5      0              6         40              0.001700\n",
       "6      0              7         63              0.002678\n",
       "7      1              1       2778              0.004920\n",
       "8      1              2       2270              0.004021\n",
       "9      1              3       1963              0.003477\n",
       "10     1              4       1711              0.003031\n",
       "11     1              5       1995              0.003534\n",
       "12     1              6       1679              0.002974\n",
       "13     1              7       2027              0.003590"
      ]
     },
     "execution_count": 27,
     "metadata": {},
     "output_type": "execute_result"
    }
   ],
   "source": [
    "df2['converted_pct_binned'] = df2.apply(lambda row: row['converted']/n_t if row['test'] == 1 \n",
    "                                                    else row['converted']/n_c, \n",
    "                                        axis=1)\n",
    "df2"
   ]
  },
  {
   "cell_type": "code",
   "execution_count": 28,
   "id": "894d353a",
   "metadata": {},
   "outputs": [
    {
     "data": {
      "image/png": "[encoded data removed]",
      "text/plain": [
       "<Figure size 640x480 with 1 Axes>"
      ]
     },
     "metadata": {
      "image/png": {
       "height": 433,
       "width": 585
      }
     },
     "output_type": "display_data"
    }
   ],
   "source": [
    "pt = sns.barplot(data=df2, x=\"mode_impr_day\", y=\"converted_pct_binned\", hue=\"test\", errorbar=\"sd\")"
   ]
  },
  {
   "cell_type": "code",
   "execution_count": 44,
   "id": "dd4092e1",
   "metadata": {},
   "outputs": [
    {
     "data": {
      "text/html": [
       "<div>\n",
       "<style scoped>\n",
       "    .dataframe tbody tr th:only-of-type {\n",
       "        vertical-align: middle;\n",
       "    }\n",
       "\n",
       "    .dataframe tbody tr th {\n",
       "        vertical-align: top;\n",
       "    }\n",
       "\n",
       "    .dataframe thead th {\n",
       "        text-align: right;\n",
       "    }\n",
       "</style>\n",
       "<table border=\"1\" class=\"dataframe\">\n",
       "  <thead>\n",
       "    <tr style=\"text-align: right;\">\n",
       "      <th></th>\n",
       "      <th>test</th>\n",
       "      <th>mode_impr_day</th>\n",
       "      <th>converted</th>\n",
       "      <th>converted_pct_binned</th>\n",
       "    </tr>\n",
       "  </thead>\n",
       "  <tbody>\n",
       "    <tr>\n",
       "      <th>12</th>\n",
       "      <td>1</td>\n",
       "      <td>6</td>\n",
       "      <td>1679</td>\n",
       "      <td>0.002974</td>\n",
       "    </tr>\n",
       "    <tr>\n",
       "      <th>10</th>\n",
       "      <td>1</td>\n",
       "      <td>4</td>\n",
       "      <td>1711</td>\n",
       "      <td>0.003031</td>\n",
       "    </tr>\n",
       "    <tr>\n",
       "      <th>9</th>\n",
       "      <td>1</td>\n",
       "      <td>3</td>\n",
       "      <td>1963</td>\n",
       "      <td>0.003477</td>\n",
       "    </tr>\n",
       "  </tbody>\n",
       "</table>\n",
       "</div>"
      ],
      "text/plain": [
       "    test  mode_impr_day  converted  converted_pct_binned\n",
       "12     1              6       1679              0.002974\n",
       "10     1              4       1711              0.003031\n",
       "9      1              3       1963              0.003477"
      ]
     },
     "execution_count": 44,
     "metadata": {},
     "output_type": "execute_result"
    }
   ],
   "source": [
    "df2[df2.test==1] \\\n",
    ".sort_values(by=['converted_pct_binned'], ascending=True).head(3)"
   ]
  },
  {
   "cell_type": "code",
   "execution_count": 51,
   "id": "f5717d73",
   "metadata": {},
   "outputs": [
    {
     "data": {
      "text/html": [
       "<div>\n",
       "<style scoped>\n",
       "    .dataframe tbody tr th:only-of-type {\n",
       "        vertical-align: middle;\n",
       "    }\n",
       "\n",
       "    .dataframe tbody tr th {\n",
       "        vertical-align: top;\n",
       "    }\n",
       "\n",
       "    .dataframe thead th {\n",
       "        text-align: right;\n",
       "    }\n",
       "</style>\n",
       "<table border=\"1\" class=\"dataframe\">\n",
       "  <thead>\n",
       "    <tr style=\"text-align: right;\">\n",
       "      <th></th>\n",
       "      <th>test</th>\n",
       "      <th>mode_impr_day</th>\n",
       "      <th>converted</th>\n",
       "      <th>converted_pct_binned</th>\n",
       "    </tr>\n",
       "  </thead>\n",
       "  <tbody>\n",
       "    <tr>\n",
       "      <th>7</th>\n",
       "      <td>1</td>\n",
       "      <td>1</td>\n",
       "      <td>2778</td>\n",
       "      <td>0.004920</td>\n",
       "    </tr>\n",
       "    <tr>\n",
       "      <th>8</th>\n",
       "      <td>1</td>\n",
       "      <td>2</td>\n",
       "      <td>2270</td>\n",
       "      <td>0.004021</td>\n",
       "    </tr>\n",
       "    <tr>\n",
       "      <th>13</th>\n",
       "      <td>1</td>\n",
       "      <td>7</td>\n",
       "      <td>2027</td>\n",
       "      <td>0.003590</td>\n",
       "    </tr>\n",
       "  </tbody>\n",
       "</table>\n",
       "</div>"
      ],
      "text/plain": [
       "    test  mode_impr_day  converted  converted_pct_binned\n",
       "7      1              1       2778              0.004920\n",
       "8      1              2       2270              0.004021\n",
       "13     1              7       2027              0.003590"
      ]
     },
     "execution_count": 51,
     "metadata": {},
     "output_type": "execute_result"
    }
   ],
   "source": [
    "df2[df2.test==1] \\\n",
    ".sort_values(by=['converted_pct_binned'], ascending=False).head(3)"
   ]
  },
  {
   "cell_type": "markdown",
   "id": "0cb4de27",
   "metadata": {},
   "source": [
    "**Most Effective: Mon**\n",
    "\n",
    "**Least Effective: Sat**"
   ]
  },
  {
   "cell_type": "code",
   "execution_count": 29,
   "id": "ce5bf755",
   "metadata": {},
   "outputs": [
    {
     "data": {
      "text/html": [
       "<div>\n",
       "<style scoped>\n",
       "    .dataframe tbody tr th:only-of-type {\n",
       "        vertical-align: middle;\n",
       "    }\n",
       "\n",
       "    .dataframe tbody tr th {\n",
       "        vertical-align: top;\n",
       "    }\n",
       "\n",
       "    .dataframe thead th {\n",
       "        text-align: right;\n",
       "    }\n",
       "</style>\n",
       "<table border=\"1\" class=\"dataframe\">\n",
       "  <thead>\n",
       "    <tr style=\"text-align: right;\">\n",
       "      <th></th>\n",
       "      <th>test</th>\n",
       "      <th>mode_impr_day</th>\n",
       "      <th>mode_impr_hour</th>\n",
       "      <th>converted</th>\n",
       "    </tr>\n",
       "  </thead>\n",
       "  <tbody>\n",
       "    <tr>\n",
       "      <th>0</th>\n",
       "      <td>0</td>\n",
       "      <td>1</td>\n",
       "      <td>0</td>\n",
       "      <td>0</td>\n",
       "    </tr>\n",
       "    <tr>\n",
       "      <th>1</th>\n",
       "      <td>0</td>\n",
       "      <td>1</td>\n",
       "      <td>1</td>\n",
       "      <td>0</td>\n",
       "    </tr>\n",
       "    <tr>\n",
       "      <th>2</th>\n",
       "      <td>0</td>\n",
       "      <td>1</td>\n",
       "      <td>2</td>\n",
       "      <td>0</td>\n",
       "    </tr>\n",
       "    <tr>\n",
       "      <th>3</th>\n",
       "      <td>0</td>\n",
       "      <td>1</td>\n",
       "      <td>3</td>\n",
       "      <td>0</td>\n",
       "    </tr>\n",
       "    <tr>\n",
       "      <th>4</th>\n",
       "      <td>0</td>\n",
       "      <td>1</td>\n",
       "      <td>4</td>\n",
       "      <td>0</td>\n",
       "    </tr>\n",
       "    <tr>\n",
       "      <th>...</th>\n",
       "      <td>...</td>\n",
       "      <td>...</td>\n",
       "      <td>...</td>\n",
       "      <td>...</td>\n",
       "    </tr>\n",
       "    <tr>\n",
       "      <th>330</th>\n",
       "      <td>1</td>\n",
       "      <td>7</td>\n",
       "      <td>19</td>\n",
       "      <td>161</td>\n",
       "    </tr>\n",
       "    <tr>\n",
       "      <th>331</th>\n",
       "      <td>1</td>\n",
       "      <td>7</td>\n",
       "      <td>20</td>\n",
       "      <td>163</td>\n",
       "    </tr>\n",
       "    <tr>\n",
       "      <th>332</th>\n",
       "      <td>1</td>\n",
       "      <td>7</td>\n",
       "      <td>21</td>\n",
       "      <td>136</td>\n",
       "    </tr>\n",
       "    <tr>\n",
       "      <th>333</th>\n",
       "      <td>1</td>\n",
       "      <td>7</td>\n",
       "      <td>22</td>\n",
       "      <td>104</td>\n",
       "    </tr>\n",
       "    <tr>\n",
       "      <th>334</th>\n",
       "      <td>1</td>\n",
       "      <td>7</td>\n",
       "      <td>23</td>\n",
       "      <td>80</td>\n",
       "    </tr>\n",
       "  </tbody>\n",
       "</table>\n",
       "<p>335 rows × 4 columns</p>\n",
       "</div>"
      ],
      "text/plain": [
       "     test  mode_impr_day  mode_impr_hour  converted\n",
       "0       0              1               0          0\n",
       "1       0              1               1          0\n",
       "2       0              1               2          0\n",
       "3       0              1               3          0\n",
       "4       0              1               4          0\n",
       "..    ...            ...             ...        ...\n",
       "330     1              7              19        161\n",
       "331     1              7              20        163\n",
       "332     1              7              21        136\n",
       "333     1              7              22        104\n",
       "334     1              7              23         80\n",
       "\n",
       "[335 rows x 4 columns]"
      ]
     },
     "execution_count": 29,
     "metadata": {},
     "output_type": "execute_result"
    }
   ],
   "source": [
    "df3 = df.groupby(by=['test','mode_impr_day','mode_impr_hour'])['converted'].sum().reset_index()\n",
    "df3"
   ]
  },
  {
   "cell_type": "code",
   "execution_count": 30,
   "id": "a3cfa2b1",
   "metadata": {},
   "outputs": [
    {
     "data": {
      "text/html": [
       "<div>\n",
       "<style scoped>\n",
       "    .dataframe tbody tr th:only-of-type {\n",
       "        vertical-align: middle;\n",
       "    }\n",
       "\n",
       "    .dataframe tbody tr th {\n",
       "        vertical-align: top;\n",
       "    }\n",
       "\n",
       "    .dataframe thead th {\n",
       "        text-align: right;\n",
       "    }\n",
       "</style>\n",
       "<table border=\"1\" class=\"dataframe\">\n",
       "  <thead>\n",
       "    <tr style=\"text-align: right;\">\n",
       "      <th></th>\n",
       "      <th>test</th>\n",
       "      <th>mode_impr_day</th>\n",
       "      <th>mode_impr_hour</th>\n",
       "      <th>converted</th>\n",
       "      <th>converted_pct_binned</th>\n",
       "    </tr>\n",
       "  </thead>\n",
       "  <tbody>\n",
       "    <tr>\n",
       "      <th>9</th>\n",
       "      <td>0</td>\n",
       "      <td>1</td>\n",
       "      <td>9</td>\n",
       "      <td>3</td>\n",
       "      <td>0.000128</td>\n",
       "    </tr>\n",
       "    <tr>\n",
       "      <th>10</th>\n",
       "      <td>0</td>\n",
       "      <td>1</td>\n",
       "      <td>10</td>\n",
       "      <td>6</td>\n",
       "      <td>0.000255</td>\n",
       "    </tr>\n",
       "    <tr>\n",
       "      <th>11</th>\n",
       "      <td>0</td>\n",
       "      <td>1</td>\n",
       "      <td>11</td>\n",
       "      <td>8</td>\n",
       "      <td>0.000340</td>\n",
       "    </tr>\n",
       "    <tr>\n",
       "      <th>12</th>\n",
       "      <td>0</td>\n",
       "      <td>1</td>\n",
       "      <td>12</td>\n",
       "      <td>7</td>\n",
       "      <td>0.000298</td>\n",
       "    </tr>\n",
       "    <tr>\n",
       "      <th>13</th>\n",
       "      <td>0</td>\n",
       "      <td>1</td>\n",
       "      <td>13</td>\n",
       "      <td>6</td>\n",
       "      <td>0.000255</td>\n",
       "    </tr>\n",
       "    <tr>\n",
       "      <th>...</th>\n",
       "      <td>...</td>\n",
       "      <td>...</td>\n",
       "      <td>...</td>\n",
       "      <td>...</td>\n",
       "      <td>...</td>\n",
       "    </tr>\n",
       "    <tr>\n",
       "      <th>330</th>\n",
       "      <td>1</td>\n",
       "      <td>7</td>\n",
       "      <td>19</td>\n",
       "      <td>161</td>\n",
       "      <td>0.000285</td>\n",
       "    </tr>\n",
       "    <tr>\n",
       "      <th>331</th>\n",
       "      <td>1</td>\n",
       "      <td>7</td>\n",
       "      <td>20</td>\n",
       "      <td>163</td>\n",
       "      <td>0.000289</td>\n",
       "    </tr>\n",
       "    <tr>\n",
       "      <th>332</th>\n",
       "      <td>1</td>\n",
       "      <td>7</td>\n",
       "      <td>21</td>\n",
       "      <td>136</td>\n",
       "      <td>0.000241</td>\n",
       "    </tr>\n",
       "    <tr>\n",
       "      <th>333</th>\n",
       "      <td>1</td>\n",
       "      <td>7</td>\n",
       "      <td>22</td>\n",
       "      <td>104</td>\n",
       "      <td>0.000184</td>\n",
       "    </tr>\n",
       "    <tr>\n",
       "      <th>334</th>\n",
       "      <td>1</td>\n",
       "      <td>7</td>\n",
       "      <td>23</td>\n",
       "      <td>80</td>\n",
       "      <td>0.000142</td>\n",
       "    </tr>\n",
       "  </tbody>\n",
       "</table>\n",
       "<p>210 rows × 5 columns</p>\n",
       "</div>"
      ],
      "text/plain": [
       "     test  mode_impr_day  mode_impr_hour  converted  converted_pct_binned\n",
       "9       0              1               9          3              0.000128\n",
       "10      0              1              10          6              0.000255\n",
       "11      0              1              11          8              0.000340\n",
       "12      0              1              12          7              0.000298\n",
       "13      0              1              13          6              0.000255\n",
       "..    ...            ...             ...        ...                   ...\n",
       "330     1              7              19        161              0.000285\n",
       "331     1              7              20        163              0.000289\n",
       "332     1              7              21        136              0.000241\n",
       "333     1              7              22        104              0.000184\n",
       "334     1              7              23         80              0.000142\n",
       "\n",
       "[210 rows x 5 columns]"
      ]
     },
     "execution_count": 30,
     "metadata": {},
     "output_type": "execute_result"
    }
   ],
   "source": [
    "df3['converted_pct_binned'] = df3.apply(lambda row: row['converted']/n_t if row['test'] == 1 \n",
    "                                                    else row['converted']/n_c, \n",
    "                                        axis=1)\n",
    "df3[~df3['mode_impr_hour'].between(0,8)]"
   ]
  },
  {
   "cell_type": "code",
   "execution_count": 31,
   "id": "5dd28033",
   "metadata": {},
   "outputs": [
    {
     "data": {
      "text/plain": [
       "'\\ng = sns.FacetGrid(df3[~df3[\\'mode_impr_hour\\'].between(0,8)], \\n                  col=\"mode_impr_day\", \\n                  hue=\"test\",\\n                  margin_titles=True,\\n                  sharex=False,\\n                  col_wrap=4, height=5, aspect=.5)\\n\\ng.map(sns.barplot, \\n      \"mode_impr_hour\", \\n      \"converted_pct_binned\", \\n      order=[i for i in range(9, 24)],)\\ng.add_legend()\\nfor ax in g.axes.flat:\\n    for label in ax.get_xticklabels():\\n        label.set_rotation(90)\\nplt.subplots_adjust(hspace=0.3)\\n'"
      ]
     },
     "execution_count": 31,
     "metadata": {},
     "output_type": "execute_result"
    }
   ],
   "source": [
    "\"\"\"\n",
    "g = sns.FacetGrid(df3[~df3['mode_impr_hour'].between(0,8)], \n",
    "                  col=\"mode_impr_day\", \n",
    "                  hue=\"test\",\n",
    "                  margin_titles=True,\n",
    "                  sharex=False,\n",
    "                  col_wrap=4, height=5, aspect=.5)\n",
    "\n",
    "g.map(sns.barplot, \n",
    "      \"mode_impr_hour\", \n",
    "      \"converted_pct_binned\", \n",
    "      order=[i for i in range(9, 24)],)\n",
    "g.add_legend()\n",
    "for ax in g.axes.flat:\n",
    "    for label in ax.get_xticklabels():\n",
    "        label.set_rotation(90)\n",
    "plt.subplots_adjust(hspace=0.3)\n",
    "\"\"\""
   ]
  },
  {
   "cell_type": "code",
   "execution_count": 32,
   "id": "c44157e0",
   "metadata": {
    "scrolled": true
   },
   "outputs": [
    {
     "data": {
      "text/plain": [
       "<Figure size 2000x600 with 0 Axes>"
      ]
     },
     "metadata": {},
     "output_type": "display_data"
    },
    {
     "data": {
      "image/png": "[encoded data removed]",
      "text/plain": [
       "<Figure size 1558.88x1500 with 7 Axes>"
      ]
     },
     "metadata": {
      "image/png": {
       "height": 1490,
       "width": 1553
      }
     },
     "output_type": "display_data"
    }
   ],
   "source": [
    "# This gives a better representation\n",
    "plt.figure(figsize=(20, 6))\n",
    "g = sns.catplot(\n",
    "    data=df3[~df3['mode_impr_hour'].between(0,8)], \n",
    "    x=\"mode_impr_hour\", \n",
    "    y=\"converted_pct_binned\", \n",
    "    col=\"mode_impr_day\", \n",
    "    hue=\"test\",\n",
    "    kind=\"bar\", \n",
    "    height=5, \n",
    "    aspect=1,\n",
    "    col_wrap=3\n",
    ")"
   ]
  },
  {
   "cell_type": "code",
   "execution_count": 33,
   "id": "e2aaffcd",
   "metadata": {},
   "outputs": [
    {
     "data": {
      "text/html": [
       "<div>\n",
       "<style scoped>\n",
       "    .dataframe tbody tr th:only-of-type {\n",
       "        vertical-align: middle;\n",
       "    }\n",
       "\n",
       "    .dataframe tbody tr th {\n",
       "        vertical-align: top;\n",
       "    }\n",
       "\n",
       "    .dataframe thead th {\n",
       "        text-align: right;\n",
       "    }\n",
       "</style>\n",
       "<table border=\"1\" class=\"dataframe\">\n",
       "  <thead>\n",
       "    <tr style=\"text-align: right;\">\n",
       "      <th></th>\n",
       "      <th>test</th>\n",
       "      <th>mode_impr_day</th>\n",
       "      <th>mode_impr_hour</th>\n",
       "      <th>converted</th>\n",
       "      <th>converted_pct_binned</th>\n",
       "    </tr>\n",
       "  </thead>\n",
       "  <tbody>\n",
       "    <tr>\n",
       "      <th>182</th>\n",
       "      <td>1</td>\n",
       "      <td>1</td>\n",
       "      <td>15</td>\n",
       "      <td>273</td>\n",
       "      <td>0.000484</td>\n",
       "    </tr>\n",
       "    <tr>\n",
       "      <th>181</th>\n",
       "      <td>1</td>\n",
       "      <td>1</td>\n",
       "      <td>14</td>\n",
       "      <td>271</td>\n",
       "      <td>0.000480</td>\n",
       "    </tr>\n",
       "    <tr>\n",
       "      <th>206</th>\n",
       "      <td>1</td>\n",
       "      <td>2</td>\n",
       "      <td>15</td>\n",
       "      <td>233</td>\n",
       "      <td>0.000413</td>\n",
       "    </tr>\n",
       "  </tbody>\n",
       "</table>\n",
       "</div>"
      ],
      "text/plain": [
       "     test  mode_impr_day  mode_impr_hour  converted  converted_pct_binned\n",
       "182     1              1              15        273              0.000484\n",
       "181     1              1              14        271              0.000480\n",
       "206     1              2              15        233              0.000413"
      ]
     },
     "execution_count": 33,
     "metadata": {},
     "output_type": "execute_result"
    }
   ],
   "source": [
    "df3[(df3.test==1) & ~df3['mode_impr_hour'].between(0,8)] \\\n",
    ".sort_values(by=['converted_pct_binned'], ascending=False).head(3)"
   ]
  },
  {
   "cell_type": "code",
   "execution_count": 34,
   "id": "3c03b29a",
   "metadata": {},
   "outputs": [
    {
     "data": {
      "text/html": [
       "<div>\n",
       "<style scoped>\n",
       "    .dataframe tbody tr th:only-of-type {\n",
       "        vertical-align: middle;\n",
       "    }\n",
       "\n",
       "    .dataframe tbody tr th {\n",
       "        vertical-align: top;\n",
       "    }\n",
       "\n",
       "    .dataframe thead th {\n",
       "        text-align: right;\n",
       "    }\n",
       "</style>\n",
       "<table border=\"1\" class=\"dataframe\">\n",
       "  <thead>\n",
       "    <tr style=\"text-align: right;\">\n",
       "      <th></th>\n",
       "      <th>test</th>\n",
       "      <th>mode_impr_day</th>\n",
       "      <th>mode_impr_hour</th>\n",
       "      <th>converted</th>\n",
       "      <th>converted_pct_binned</th>\n",
       "    </tr>\n",
       "  </thead>\n",
       "  <tbody>\n",
       "    <tr>\n",
       "      <th>214</th>\n",
       "      <td>1</td>\n",
       "      <td>2</td>\n",
       "      <td>23</td>\n",
       "      <td>55</td>\n",
       "      <td>0.000097</td>\n",
       "    </tr>\n",
       "    <tr>\n",
       "      <th>262</th>\n",
       "      <td>1</td>\n",
       "      <td>4</td>\n",
       "      <td>23</td>\n",
       "      <td>56</td>\n",
       "      <td>0.000099</td>\n",
       "    </tr>\n",
       "    <tr>\n",
       "      <th>296</th>\n",
       "      <td>1</td>\n",
       "      <td>6</td>\n",
       "      <td>9</td>\n",
       "      <td>60</td>\n",
       "      <td>0.000106</td>\n",
       "    </tr>\n",
       "  </tbody>\n",
       "</table>\n",
       "</div>"
      ],
      "text/plain": [
       "     test  mode_impr_day  mode_impr_hour  converted  converted_pct_binned\n",
       "214     1              2              23         55              0.000097\n",
       "262     1              4              23         56              0.000099\n",
       "296     1              6               9         60              0.000106"
      ]
     },
     "execution_count": 34,
     "metadata": {},
     "output_type": "execute_result"
    }
   ],
   "source": [
    "df3[(df3.test==1) & ~df3['mode_impr_hour'].between(0,8)] \\\n",
    ".sort_values(by=['converted_pct_binned'], ascending=True).head(3)"
   ]
  },
  {
   "cell_type": "code",
   "execution_count": 52,
   "id": "59fd7dfe",
   "metadata": {},
   "outputs": [
    {
     "data": {
      "text/html": [
       "<div>\n",
       "<style scoped>\n",
       "    .dataframe tbody tr th:only-of-type {\n",
       "        vertical-align: middle;\n",
       "    }\n",
       "\n",
       "    .dataframe tbody tr th {\n",
       "        vertical-align: top;\n",
       "    }\n",
       "\n",
       "    .dataframe thead th {\n",
       "        text-align: right;\n",
       "    }\n",
       "</style>\n",
       "<table border=\"1\" class=\"dataframe\">\n",
       "  <thead>\n",
       "    <tr style=\"text-align: right;\">\n",
       "      <th></th>\n",
       "      <th>test</th>\n",
       "      <th>mode_impr_day</th>\n",
       "      <th>mode_impr_hour</th>\n",
       "      <th>converted</th>\n",
       "      <th>converted_pct_binned</th>\n",
       "    </tr>\n",
       "  </thead>\n",
       "  <tbody>\n",
       "    <tr>\n",
       "      <th>15</th>\n",
       "      <td>0</td>\n",
       "      <td>1</td>\n",
       "      <td>15</td>\n",
       "      <td>11</td>\n",
       "      <td>0.000468</td>\n",
       "    </tr>\n",
       "    <tr>\n",
       "      <th>14</th>\n",
       "      <td>0</td>\n",
       "      <td>1</td>\n",
       "      <td>14</td>\n",
       "      <td>10</td>\n",
       "      <td>0.000425</td>\n",
       "    </tr>\n",
       "    <tr>\n",
       "      <th>87</th>\n",
       "      <td>0</td>\n",
       "      <td>4</td>\n",
       "      <td>16</td>\n",
       "      <td>9</td>\n",
       "      <td>0.000383</td>\n",
       "    </tr>\n",
       "  </tbody>\n",
       "</table>\n",
       "</div>"
      ],
      "text/plain": [
       "    test  mode_impr_day  mode_impr_hour  converted  converted_pct_binned\n",
       "15     0              1              15         11              0.000468\n",
       "14     0              1              14         10              0.000425\n",
       "87     0              4              16          9              0.000383"
      ]
     },
     "execution_count": 52,
     "metadata": {},
     "output_type": "execute_result"
    }
   ],
   "source": [
    "df3[(df3.test==0) & ~df3['mode_impr_hour'].between(0,8)] \\\n",
    ".sort_values(by=['converted_pct_binned'], ascending=False).head(3)"
   ]
  },
  {
   "cell_type": "code",
   "execution_count": 55,
   "id": "3adc3b64",
   "metadata": {},
   "outputs": [
    {
     "data": {
      "text/html": [
       "<div>\n",
       "<style scoped>\n",
       "    .dataframe tbody tr th:only-of-type {\n",
       "        vertical-align: middle;\n",
       "    }\n",
       "\n",
       "    .dataframe tbody tr th {\n",
       "        vertical-align: top;\n",
       "    }\n",
       "\n",
       "    .dataframe thead th {\n",
       "        text-align: right;\n",
       "    }\n",
       "</style>\n",
       "<table border=\"1\" class=\"dataframe\">\n",
       "  <thead>\n",
       "    <tr style=\"text-align: right;\">\n",
       "      <th></th>\n",
       "      <th>test</th>\n",
       "      <th>mode_impr_day</th>\n",
       "      <th>mode_impr_hour</th>\n",
       "      <th>converted</th>\n",
       "      <th>converted_pct_binned</th>\n",
       "    </tr>\n",
       "  </thead>\n",
       "  <tbody>\n",
       "    <tr>\n",
       "      <th>166</th>\n",
       "      <td>0</td>\n",
       "      <td>7</td>\n",
       "      <td>23</td>\n",
       "      <td>0</td>\n",
       "      <td>0.0</td>\n",
       "    </tr>\n",
       "    <tr>\n",
       "      <th>117</th>\n",
       "      <td>0</td>\n",
       "      <td>5</td>\n",
       "      <td>22</td>\n",
       "      <td>0</td>\n",
       "      <td>0.0</td>\n",
       "    </tr>\n",
       "    <tr>\n",
       "      <th>128</th>\n",
       "      <td>0</td>\n",
       "      <td>6</td>\n",
       "      <td>9</td>\n",
       "      <td>0</td>\n",
       "      <td>0.0</td>\n",
       "    </tr>\n",
       "    <tr>\n",
       "      <th>23</th>\n",
       "      <td>0</td>\n",
       "      <td>1</td>\n",
       "      <td>23</td>\n",
       "      <td>0</td>\n",
       "      <td>0.0</td>\n",
       "    </tr>\n",
       "    <tr>\n",
       "      <th>141</th>\n",
       "      <td>0</td>\n",
       "      <td>6</td>\n",
       "      <td>22</td>\n",
       "      <td>0</td>\n",
       "      <td>0.0</td>\n",
       "    </tr>\n",
       "  </tbody>\n",
       "</table>\n",
       "</div>"
      ],
      "text/plain": [
       "     test  mode_impr_day  mode_impr_hour  converted  converted_pct_binned\n",
       "166     0              7              23          0                   0.0\n",
       "117     0              5              22          0                   0.0\n",
       "128     0              6               9          0                   0.0\n",
       "23      0              1              23          0                   0.0\n",
       "141     0              6              22          0                   0.0"
      ]
     },
     "execution_count": 55,
     "metadata": {},
     "output_type": "execute_result"
    }
   ],
   "source": [
    "df3[(df3.test==0) & ~df3['mode_impr_hour'].between(0,8)] \\\n",
    ".sort_values(by=['converted_pct_binned'], ascending=True).head(5)"
   ]
  },
  {
   "cell_type": "markdown",
   "id": "46edb26b",
   "metadata": {},
   "source": [
    "### c. What days/hours is advertising the most/least effective?\n",
    "\n",
    "- Treatment\n",
    "\n",
    "- **Most Effective: Mon 3 pm**\n",
    "- **Least Effective: Tue 11 pm**\n",
    "\n",
    "- Control\n",
    "\n",
    "- **Most Effective: Mon 3 pm**\n",
    "- **Least Effective: Sun 11 pm**\n",
    "\n"
   ]
  },
  {
   "cell_type": "code",
   "execution_count": null,
   "id": "a02b26d9",
   "metadata": {},
   "outputs": [],
   "source": []
  },
  {
   "cell_type": "code",
   "execution_count": null,
   "id": "b6b9651c",
   "metadata": {},
   "outputs": [],
   "source": []
  }
 ],
 "metadata": {
  "kernelspec": {
   "display_name": "Python 3 (ipykernel)",
   "language": "python",
   "name": "python3"
  },
  "language_info": {
   "codemirror_mode": {
    "name": "ipython",
    "version": 3
   },
   "file_extension": ".py",
   "mimetype": "text/x-python",
   "name": "python",
   "nbconvert_exporter": "python",
   "pygments_lexer": "ipython3",
   "version": "3.11.4"
  }
 },
 "nbformat": 4,
 "nbformat_minor": 5
}
